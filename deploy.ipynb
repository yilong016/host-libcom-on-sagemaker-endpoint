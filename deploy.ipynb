{
 "cells": [
  {
   "cell_type": "markdown",
   "id": "2db9bb25-0db5-4ddf-b874-225fba5f95cf",
   "metadata": {},
   "source": [
    "# Hosting Libcom models on Sagemaker using BYOC (bring-your-own-container)\n",
    "in this bootbook, we demonstrate how to host libcom (the library of image composition) on SageMaker real-time endpoint using BYOC (Bring-your-own-container)"
   ]
  },
  {
   "cell_type": "markdown",
   "id": "58f27b99-6dde-496c-87d6-254a54e407ba",
   "metadata": {
    "tags": []
   },
   "source": [
    "## Prepare pre-requisites tools"
   ]
  },
  {
   "cell_type": "markdown",
   "id": "f9a395e7-3057-4589-bb56-50dafee052bb",
   "metadata": {},
   "source": [
    "#### install and update sagemaker tools"
   ]
  },
  {
   "cell_type": "code",
   "execution_count": null,
   "id": "2654ebfe-d60e-4e9c-b861-89c4bf6bff53",
   "metadata": {
    "tags": []
   },
   "outputs": [],
   "source": [
    "%pip install --upgrade pip --quiet\n",
    "%pip install sagemaker boto3 awscli --upgrade --quiet"
   ]
  },
  {
   "cell_type": "markdown",
   "id": "083bdb54-97e7-4397-8735-1b0c18cb9787",
   "metadata": {},
   "source": [
    "#### Initialize the variables for SageMaker default bucket, role, and AWS account ID, and current AWS region."
   ]
  },
  {
   "cell_type": "code",
   "execution_count": null,
   "id": "034461cc-d5d7-4693-b050-6beb13ea19ca",
   "metadata": {
    "tags": []
   },
   "outputs": [],
   "source": [
    "import sagemaker\n",
    "import boto3\n",
    "\n",
    "account_id = boto3.client(\"sts\").get_caller_identity().get(\"Account\")\n",
    "sagemaker_session = sagemaker.Session()\n",
    "\n",
    "bucket = sagemaker_session.default_bucket()\n",
    "role = sagemaker.get_execution_role()\n",
    "region_name = boto3.session.Session().region_name"
   ]
  },
  {
   "cell_type": "markdown",
   "id": "00660659-99fc-4e5a-a3d4-0b2034d997b9",
   "metadata": {},
   "source": [
    "#### Execute the script - download_pretrained_model.sh to download pretrained models we will use"
   ]
  },
  {
   "cell_type": "code",
   "execution_count": null,
   "id": "20fda32d-817f-481f-8375-08738d9fdd3e",
   "metadata": {
    "tags": []
   },
   "outputs": [],
   "source": [
    "# download models\n",
    "!chmod +x download_pretrained_model.sh && bash download_pretrained_model.sh"
   ]
  },
  {
   "cell_type": "markdown",
   "id": "ae3abef1-175c-4fd8-be5c-b91e48512750",
   "metadata": {},
   "source": [
    "#### Execute the script - build_and_push.sh to build Docker images for SageMaker endpoint."
   ]
  },
  {
   "cell_type": "code",
   "execution_count": null,
   "id": "cfe7979d-667c-4cba-bb06-75af438386ec",
   "metadata": {
    "tags": []
   },
   "outputs": [],
   "source": [
    "# build containers used by sagemaker\n",
    "!chmod +x build_and_push.sh && bash build_and_push.sh $region_name"
   ]
  },
  {
   "cell_type": "markdown",
   "id": "1acd2434-3510-43d7-88e4-c160f8279e23",
   "metadata": {},
   "source": [
    "#### Upload the dummy file to S3 to meet the requirement of SageMaker Endpoint for model data."
   ]
  },
  {
   "cell_type": "code",
   "execution_count": null,
   "id": "c53fce8f-40c6-4507-8204-fbfe6bbcc6cd",
   "metadata": {
    "tags": []
   },
   "outputs": [],
   "source": [
    "s3_model_prefix = \"libcom\"\n",
    "\n",
    "!touch dummy\n",
    "!rm -f model.tar.gz\n",
    "!tar czvf model.tar.gz dummy\n",
    "s3_model_artifact = sagemaker_session.upload_data(\"model.tar.gz\", bucket, s3_model_prefix)\n",
    "print(f\"S3 Code or Model tar uploaded to --- > {s3_model_artifact}\")\n",
    "!rm -f dummy"
   ]
  },
  {
   "cell_type": "markdown",
   "id": "f9df8be1-d665-49df-9b9b-82dfe0b404dc",
   "metadata": {},
   "source": [
    "## Deploy Sagemaker Real-time Endpoint"
   ]
  },
  {
   "cell_type": "markdown",
   "id": "ff8be418-e033-4f01-9d59-051e0462ed6e",
   "metadata": {},
   "source": [
    "#### Define the model"
   ]
  },
  {
   "cell_type": "code",
   "execution_count": null,
   "id": "a56a78b7-5b5b-4772-b11a-10c6c8e4705c",
   "metadata": {
    "tags": []
   },
   "outputs": [],
   "source": [
    "from sagemaker import Model, serializers, deserializers\n",
    "inference_algorithm_name='libcom'\n",
    "image_uri_inference = (\n",
    "    f\"{account_id}.dkr.ecr.{region_name}.amazonaws.com/{inference_algorithm_name}:latest\"\n",
    ")\n",
    "print(image_uri_inference)\n",
    "\n",
    "model_name='libcom'\n",
    "model = Model(\n",
    "    name=model_name,\n",
    "    image_uri=image_uri_inference, \n",
    "    model_data=s3_model_artifact, \n",
    "    role=role)"
   ]
  },
  {
   "cell_type": "markdown",
   "id": "4a428855-429d-417b-855b-02649e97502e",
   "metadata": {
    "tags": []
   },
   "source": [
    "#### deploy the endpoint"
   ]
  },
  {
   "cell_type": "code",
   "execution_count": null,
   "id": "70821405-c7d9-48dd-8786-5022d36859d2",
   "metadata": {
    "tags": []
   },
   "outputs": [],
   "source": [
    "instance_type = \"ml.g5.2xlarge\"  # \"ml.g5.2xlarge\" - #single GPU. \n",
    "\n",
    "endpoint_name = 'libcom'\n",
    "model.deploy(\n",
    "    image_uri=image_uri_inference,\n",
    "    initial_instance_count=1,\n",
    "    instance_type=instance_type,\n",
    "    endpoint_name=endpoint_name,\n",
    "    container_startup_health_check_timeout=900,\n",
    ")\n",
    "\n",
    "# our requests and responses will be in json format so we specify the serializer and the deserializer\n",
    "predictor = sagemaker.Predictor(\n",
    "    endpoint_name=endpoint_name,\n",
    "    sagemaker_session=sagemaker_session,\n",
    "    serializer=serializers.JSONSerializer(),\n",
    "    deserializer=deserializers.JSONDeserializer()\n",
    ")"
   ]
  },
  {
   "cell_type": "markdown",
   "id": "65521563-92fa-44b9-a389-b27af6ffdb83",
   "metadata": {},
   "source": [
    "## Uncomment below and Execute Clean up after your experiment finished"
   ]
  },
  {
   "cell_type": "code",
   "execution_count": null,
   "id": "6b2a9e61-1e54-40bf-ac31-9a7a9f38f769",
   "metadata": {
    "tags": []
   },
   "outputs": [],
   "source": [
    "# delete endpoint for cost saving\n",
    "# endpoint_name = 'libcom'\n",
    "# model_name='libcom'\n",
    "# import boto3\n",
    "# sagemaker_client = boto3.client(\"sagemaker\")\n",
    "\n",
    "# Delete the endpoint\n",
    "# sagemaker_client.delete_endpoint(EndpointName=endpoint_name)\n",
    "\n",
    "# Delete the endpoint configuration\n",
    "# sagemaker_client.delete_endpoint_config(EndpointConfigName=endpoint_name)\n",
    "\n",
    "# Delete the model\n",
    "# sagemaker_client.delete_model(ModelName=model_name)"
   ]
  }
 ],
 "metadata": {
  "kernelspec": {
   "display_name": "conda_pytorch_p310",
   "language": "python",
   "name": "conda_pytorch_p310"
  },
  "language_info": {
   "codemirror_mode": {
    "name": "ipython",
    "version": 3
   },
   "file_extension": ".py",
   "mimetype": "text/x-python",
   "name": "python",
   "nbconvert_exporter": "python",
   "pygments_lexer": "ipython3",
   "version": "3.10.13"
  }
 },
 "nbformat": 4,
 "nbformat_minor": 5
}
